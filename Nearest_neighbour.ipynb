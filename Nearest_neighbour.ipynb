{
  "nbformat": 4,
  "nbformat_minor": 0,
  "metadata": {
    "colab": {
      "name": "Nearest_neighbour.ipynb",
      "provenance": [],
      "collapsed_sections": []
    },
    "kernelspec": {
      "name": "python3",
      "display_name": "Python 3"
    },
    "accelerator": "GPU"
  },
  "cells": [
    {
      "cell_type": "code",
      "metadata": {
        "id": "9ej2CSgyF4o_"
      },
      "source": [
        "import numpy as np\n",
        "import array as array\n",
        "import matplotlib.pyplot as plt\n",
        "import time as t\n",
        "import tensorflow as tf\n",
        "import matplotlib.pyplot as plt\n",
        "\n"
      ],
      "execution_count": null,
      "outputs": []
    },
    {
      "cell_type": "code",
      "metadata": {
        "id": "4eV7gGrL8Jim",
        "colab": {
          "base_uri": "https://localhost:8080/",
          "height": 34
        },
        "outputId": "d9c82759-ba88-4d5a-8a79-83d25768ea95"
      },
      "source": [
        "(Xtr, Ytr), (Xte, Yte) =  tf.keras.datasets.cifar10.load_data()\n",
        "Xtr_rows = Xtr.reshape(Xtr.shape[0], 32 * 32 * 3)\n",
        "Xte_rows = Xte.reshape(Xte.shape[0], 32 * 32 * 3)\n",
        "Ytr.shape\n",
        "\n"
      ],
      "execution_count": null,
      "outputs": [
        {
          "output_type": "execute_result",
          "data": {
            "text/plain": [
              "(50000, 1)"
            ]
          },
          "metadata": {
            "tags": []
          },
          "execution_count": 58
        }
      ]
    },
    {
      "cell_type": "code",
      "metadata": {
        "id": "9E32ZuloSziV"
      },
      "source": [
        "X_val = Xtr_rows[:100, :]\n",
        "Y_val = Ytr [:100]\n",
        "Xtr_rows = Xtr_rows[100:600, :]\n",
        "Ytr = Ytr[100:600 ] "
      ],
      "execution_count": null,
      "outputs": []
    },
    {
      "cell_type": "code",
      "metadata": {
        "id": "mip8aviexo67"
      },
      "source": [
        "for i in range(10):\n",
        "  indexes = np.flatnonzero(Ytr==i)\n",
        "\n",
        "  #indexes = indexes.flatten()\n",
        "  \n",
        "  for j in range(3):\n",
        "    k = indexes[j]\n",
        "    #print(k)\n",
        "    #plt.figure(figsize=(20, 20))\n",
        "    plt.subplot(10, 3, i*3+j+1) #\n",
        "    plt.imshow(Xtr[k].astype('uint8'))\n",
        "    plt.title(Ytr[k])\n"
      ],
      "execution_count": null,
      "outputs": []
    },
    {
      "cell_type": "code",
      "metadata": {
        "id": "zAHFV49xeghF"
      },
      "source": [
        "class KnearestNeighbour():\n",
        "  def __init__(self):\n",
        "    pass\n",
        "  def train(self, X, Y):\n",
        "      self.Xtrain = X # N x D matrix of training images   also Xtrain and Ytrain are not local variables of this f(). they are of this whole class with the self. notation\n",
        "      self.Ytrain = Y # 1 x N array of training image labels\n",
        "  def predict(self, Xtest, k):\n",
        "       num_test = Xtest.shape[0]\n",
        "       Ypred  = np.zeros(num_test, dtype = self.Ytrain.dtype)\n",
        "       for i in range(num_test): \n",
        "            distances  = np.sum(np.abs(self.Xtrain - Xtest[i,:]), axis = 1) #pixel by pixel subtract from each row(total 50000) of Xtrain the first row( first img) of Xtest\n",
        "        #then 2nd img from each row, then 3rd and so on. you get 32*32*3 differences for each comparison. 49,000 comparisons for each img of Xtest. \n",
        "        #sum the 32*32*3 differences along the axes. get 50,000 summed numbers or distances for ith image of Xtest.\n",
        "        #take first k lowest distances\n",
        "            indx = np.argsort(distances[i:]) [:k]\n",
        "            nlabels = self.Ytrain[indx[:]]\n",
        "            sorted_distances = sorted(distances[i:])\n",
        "            min_distances  = sorted_distances[:k]\n",
        "\n",
        "            u, indices = np.unique(nlabels, return_inverse = True )\n",
        "            freq = np.bincount(indices)\n",
        "            most_freq_index = np.argmax(freq)\n",
        "            Ypred[i] = u[most_freq_index] \n",
        "       return Ypred               "
      ],
      "execution_count": null,
      "outputs": []
    },
    {
      "cell_type": "code",
      "metadata": {
        "id": "Pck8OtSl-FJm",
        "colab": {
          "base_uri": "https://localhost:8080/",
          "height": 136
        },
        "outputId": "a6dce055-7e2c-4a96-f78a-3b4da5c27348"
      },
      "source": [
        " validation_accuracies = []\n",
        "for k in [1, 3, 5, 10, 20, 50, 100]:\n",
        "  knn = KnearestNeighbour()\n",
        "  knn.train(Xtr_rows, Ytr)\n",
        "  val_pred = knn.predict(X_val, k) #predicted labels for validation\n",
        "  acc = np.mean(val_pred == Y_val)\n",
        "  print( 'accuracy = %f' % acc )\n",
        "  validation_accuracies.append((k, acc)) "
      ],
      "execution_count": null,
      "outputs": [
        {
          "output_type": "stream",
          "text": [
            "accuracy = 0.099900\n",
            "accuracy = 0.094200\n",
            "accuracy = 0.095500\n",
            "accuracy = 0.095400\n",
            "accuracy = 0.096100\n",
            "accuracy = 0.099500\n",
            "accuracy = 0.100700\n"
          ],
          "name": "stdout"
        }
      ]
    }
  ]
}